{
 "cells": [
  {
   "cell_type": "code",
   "execution_count": 2,
   "id": "135b7499-7cd0-404c-8bac-136590363730",
   "metadata": {},
   "outputs": [],
   "source": [
    "import numpy as np\n",
    "import pandas as pd\n",
    "import matplotlib.pyplot as plt\n",
    "import yfinance as yf"
   ]
  },
  {
   "cell_type": "code",
   "execution_count": 19,
   "id": "27b4ea0e-9a55-434d-8fb5-afffb95ad5ab",
   "metadata": {},
   "outputs": [
    {
     "name": "stderr",
     "output_type": "stream",
     "text": [
      "$BRK: possibly delisted; no price data found  (period=1d)\n",
      "/var/folders/lx/ddlr7_8s19s00cjxkh6fqgyh0000gn/T/ipykernel_52201/1740150901.py:48: FutureWarning: Series.__getitem__ treating keys as positions is deprecated. In a future version, integer keys will always be treated as labels (consistent with DataFrame behavior). To access a value by position, use `ser.iloc[pos]`\n",
      "  price = t.history(period=\"1d\")[\"Close\"][-1]\n",
      "/var/folders/lx/ddlr7_8s19s00cjxkh6fqgyh0000gn/T/ipykernel_52201/1740150901.py:48: FutureWarning: Series.__getitem__ treating keys as positions is deprecated. In a future version, integer keys will always be treated as labels (consistent with DataFrame behavior). To access a value by position, use `ser.iloc[pos]`\n",
      "  price = t.history(period=\"1d\")[\"Close\"][-1]\n",
      "/var/folders/lx/ddlr7_8s19s00cjxkh6fqgyh0000gn/T/ipykernel_52201/1740150901.py:48: FutureWarning: Series.__getitem__ treating keys as positions is deprecated. In a future version, integer keys will always be treated as labels (consistent with DataFrame behavior). To access a value by position, use `ser.iloc[pos]`\n",
      "  price = t.history(period=\"1d\")[\"Close\"][-1]\n",
      "/var/folders/lx/ddlr7_8s19s00cjxkh6fqgyh0000gn/T/ipykernel_52201/1740150901.py:48: FutureWarning: Series.__getitem__ treating keys as positions is deprecated. In a future version, integer keys will always be treated as labels (consistent with DataFrame behavior). To access a value by position, use `ser.iloc[pos]`\n",
      "  price = t.history(period=\"1d\")[\"Close\"][-1]\n",
      "/var/folders/lx/ddlr7_8s19s00cjxkh6fqgyh0000gn/T/ipykernel_52201/1740150901.py:48: FutureWarning: Series.__getitem__ treating keys as positions is deprecated. In a future version, integer keys will always be treated as labels (consistent with DataFrame behavior). To access a value by position, use `ser.iloc[pos]`\n",
      "  price = t.history(period=\"1d\")[\"Close\"][-1]\n",
      "/var/folders/lx/ddlr7_8s19s00cjxkh6fqgyh0000gn/T/ipykernel_52201/1740150901.py:48: FutureWarning: Series.__getitem__ treating keys as positions is deprecated. In a future version, integer keys will always be treated as labels (consistent with DataFrame behavior). To access a value by position, use `ser.iloc[pos]`\n",
      "  price = t.history(period=\"1d\")[\"Close\"][-1]\n",
      "/var/folders/lx/ddlr7_8s19s00cjxkh6fqgyh0000gn/T/ipykernel_52201/1740150901.py:48: FutureWarning: Series.__getitem__ treating keys as positions is deprecated. In a future version, integer keys will always be treated as labels (consistent with DataFrame behavior). To access a value by position, use `ser.iloc[pos]`\n",
      "  price = t.history(period=\"1d\")[\"Close\"][-1]\n",
      "/var/folders/lx/ddlr7_8s19s00cjxkh6fqgyh0000gn/T/ipykernel_52201/1740150901.py:48: FutureWarning: Series.__getitem__ treating keys as positions is deprecated. In a future version, integer keys will always be treated as labels (consistent with DataFrame behavior). To access a value by position, use `ser.iloc[pos]`\n",
      "  price = t.history(period=\"1d\")[\"Close\"][-1]\n",
      "/var/folders/lx/ddlr7_8s19s00cjxkh6fqgyh0000gn/T/ipykernel_52201/1740150901.py:48: FutureWarning: Series.__getitem__ treating keys as positions is deprecated. In a future version, integer keys will always be treated as labels (consistent with DataFrame behavior). To access a value by position, use `ser.iloc[pos]`\n",
      "  price = t.history(period=\"1d\")[\"Close\"][-1]\n",
      "/var/folders/lx/ddlr7_8s19s00cjxkh6fqgyh0000gn/T/ipykernel_52201/1740150901.py:48: FutureWarning: Series.__getitem__ treating keys as positions is deprecated. In a future version, integer keys will always be treated as labels (consistent with DataFrame behavior). To access a value by position, use `ser.iloc[pos]`\n",
      "  price = t.history(period=\"1d\")[\"Close\"][-1]\n",
      "/var/folders/lx/ddlr7_8s19s00cjxkh6fqgyh0000gn/T/ipykernel_52201/1740150901.py:48: FutureWarning: Series.__getitem__ treating keys as positions is deprecated. In a future version, integer keys will always be treated as labels (consistent with DataFrame behavior). To access a value by position, use `ser.iloc[pos]`\n",
      "  price = t.history(period=\"1d\")[\"Close\"][-1]\n"
     ]
    },
    {
     "name": "stdout",
     "output_type": "stream",
     "text": [
      "   ticker       price  Revenue Growth %  EBITDA Margin %  EPS (ttm)  \\\n",
      "0     BRK         NaN               NaN              NaN        NaN   \n",
      "1    QBTS   15.960000              41.8         0.000000      -1.13   \n",
      "2    NVDA  180.345001              69.2        59.419996       3.11   \n",
      "3    SOFI   26.021000              43.9         0.000000       0.50   \n",
      "4     TTD   55.400002              18.7        20.700000       0.83   \n",
      "5     VST  196.990005              10.5        36.060002       6.23   \n",
      "6    META  751.219971              21.6        52.728003      27.58   \n",
      "7    IONQ   43.209999              81.8         0.000000      -2.06   \n",
      "8    AMZN  231.639999              13.3        19.974001       6.55   \n",
      "9    AVGO  308.779999              16.4        54.540000       2.73   \n",
      "10  GOOGL  211.764999              13.8        37.922000       9.38   \n",
      "11   ACHR    9.210000               NaN         0.000000      -1.27   \n",
      "\n",
      "    EPS Growth %  P/E (trailing)  EV/EBITDA  \n",
      "0            NaN             NaN        NaN  \n",
      "1            NaN             NaN -57.268532  \n",
      "2           26.7       57.991806  49.719921  \n",
      "3         1005.2       52.042000        NaN  \n",
      "4            5.9       66.746994  43.996166  \n",
      "5          -10.0       31.621187  12.888738  \n",
      "6           38.4       27.237852  19.940743  \n",
      "7            NaN             NaN -34.727171  \n",
      "8           33.3       35.364883  18.754369  \n",
      "9          188.1      113.107110   4.910544  \n",
      "10          22.3       22.576225  17.436565  \n",
      "11           NaN             NaN  -7.734865  \n"
     ]
    },
    {
     "name": "stderr",
     "output_type": "stream",
     "text": [
      "/var/folders/lx/ddlr7_8s19s00cjxkh6fqgyh0000gn/T/ipykernel_52201/1740150901.py:48: FutureWarning: Series.__getitem__ treating keys as positions is deprecated. In a future version, integer keys will always be treated as labels (consistent with DataFrame behavior). To access a value by position, use `ser.iloc[pos]`\n",
      "  price = t.history(period=\"1d\")[\"Close\"][-1]\n"
     ]
    }
   ],
   "source": [
    "# pip install yfinance pandas\n",
    "import yfinance as yf\n",
    "import pandas as pd\n",
    "import math\n",
    "\n",
    "def pct(x): return None if x is None else x * 100\n",
    "\n",
    "def get_core_metrics_yf(ticker: str):\n",
    "    t = yf.Ticker(ticker)\n",
    "\n",
    "    # Prefer .get_info() (newer) then fallback to .info\n",
    "    try:\n",
    "        info = t.get_info()\n",
    "    except Exception:\n",
    "        info = getattr(t, \"info\", {}) or {}\n",
    "\n",
    "    # Try annual financials for backup calculations\n",
    "    fin = getattr(t, \"financials\", pd.DataFrame())\n",
    "    revenue_growth = info.get(\"revenueGrowth\")  # YoY (decimal)\n",
    "    ebitda_margin = info.get(\"ebitdaMargins\")   # decimal\n",
    "    ebitda = info.get(\"ebitda\")\n",
    "    eps = info.get(\"trailingEps\")\n",
    "    eps_growth = info.get(\"earningsGrowth\")     # YoY (decimal)\n",
    "    pe = info.get(\"trailingPE\")\n",
    "    ev = info.get(\"enterpriseValue\")\n",
    "\n",
    "    # Fallbacks from statements if needed\n",
    "    # EBITDA margin backup: EBITDA / Total Revenue (last fiscal year)\n",
    "    if ebitda_margin is None and isinstance(fin, pd.DataFrame) and not fin.empty:\n",
    "        try:\n",
    "            col = fin.columns[0]  # most recent FY\n",
    "            rev = fin.loc[\"Total Revenue\", col]\n",
    "            ebit = fin.loc[\"EBITDA\", col]\n",
    "            if rev and ebit:\n",
    "                ebitda_margin = ebit / rev\n",
    "            if ebitda is None:\n",
    "                ebitda = ebit\n",
    "        except Exception:\n",
    "            pass\n",
    "\n",
    "    # EV/EBITDA\n",
    "    ev_ebitda = None\n",
    "    if ev is not None and ebitda not in (None, 0) and not math.isclose(float(ebitda), 0.0):\n",
    "        ev_ebitda = ev / ebitda\n",
    "\n",
    "    # Last price (for context)\n",
    "    try:\n",
    "        price = t.history(period=\"1d\")[\"Close\"][-1]\n",
    "    except Exception:\n",
    "        price = None\n",
    "\n",
    "    return {\n",
    "        \"ticker\": ticker,\n",
    "        \"price\": price,\n",
    "        \"Revenue Growth %\": pct(revenue_growth),\n",
    "        \"EBITDA Margin %\": pct(ebitda_margin),\n",
    "        \"EPS (ttm)\": eps,\n",
    "        \"EPS Growth %\": pct(eps_growth),\n",
    "        \"P/E (trailing)\": pe,\n",
    "        \"EV/EBITDA\": ev_ebitda,\n",
    "    }\n",
    "\n",
    "tickers = [\"BRK\", \"QBTS\", \"NVDA\", \"SOFI\", \"TTD\", \"VST\", \"META\", \"IONQ\", \"AMZN\", \"AVGO\", \"GOOGL\", \"ACHR\"]\n",
    "rows = [get_core_metrics_yf(t) for t in tickers]\n",
    "df = pd.DataFrame(rows)\n",
    "print(df)"
   ]
  },
  {
   "cell_type": "code",
   "execution_count": null,
   "id": "996bfada-f148-4e42-95be-a549da744323",
   "metadata": {},
   "outputs": [],
   "source": []
  },
  {
   "cell_type": "code",
   "execution_count": null,
   "id": "639fe3ce-0a4b-4733-838f-62cc5625b4d4",
   "metadata": {},
   "outputs": [],
   "source": []
  },
  {
   "cell_type": "code",
   "execution_count": null,
   "id": "a33c4f89-e74b-4a3e-84c4-698fc9fc6478",
   "metadata": {},
   "outputs": [],
   "source": []
  }
 ],
 "metadata": {
  "kernelspec": {
   "display_name": "Python [conda env:base] *",
   "language": "python",
   "name": "conda-base-py"
  },
  "language_info": {
   "codemirror_mode": {
    "name": "ipython",
    "version": 3
   },
   "file_extension": ".py",
   "mimetype": "text/x-python",
   "name": "python",
   "nbconvert_exporter": "python",
   "pygments_lexer": "ipython3",
   "version": "3.13.5"
  }
 },
 "nbformat": 4,
 "nbformat_minor": 5
}
